{
  "nbformat": 4,
  "nbformat_minor": 0,
  "metadata": {
    "colab": {
      "name": "Copy of Classification.ipynb",
      "provenance": [],
      "collapsed_sections": [
        "lzRAXAYsiuhp",
        "9poZ8N56Z94R",
        "Lb-RLgsnC23C",
        "GgonBFE8I2IL",
        "dOe8btABKSBO",
        "p8Zk66RiWuS5",
        "lzZC16m_2Dw5",
        "wfA70l6m2Rgl",
        "09Xcn_ng2KXr"
      ]
    },
    "kernelspec": {
      "name": "python3",
      "display_name": "Python 3"
    }
  },
  "cells": [
    {
      "cell_type": "markdown",
      "metadata": {
        "id": "VnlrpU7ghpw2"
      },
      "source": [
        " Classification:\n",
        "\n",
        " 1. Linear regression\n",
        " 2. Logistic regression\n",
        "\n",
        " 3. Support vector machine\n"
      ]
    },
    {
      "cell_type": "markdown",
      "metadata": {
        "id": "eRGPI27lR8Mf"
      },
      "source": [
        "# Linear regression\n",
        "\n",
        "1. Generate 1D data synthetically\n",
        "2. Take the earlier designed linear regression class\n",
        "3. Find the fitting line \n",
        "4. Taking 0.5 as threshold, see the classification    "
      ]
    },
    {
      "cell_type": "code",
      "metadata": {
        "id": "7c8soHbzhk2L",
        "colab": {
          "base_uri": "https://localhost:8080/",
          "height": 333
        },
        "outputId": "439ab94d-6ec1-4b9f-b70f-475366f48287"
      },
      "source": [
        "import numpy as np\n",
        "import matplotlib.pyplot as plt\n",
        "x=list(range(100))+list(range(150,250))\n",
        "x=np.array(x)/300\n",
        "print(x.shape)\n",
        "x=x.reshape((200,1))\n",
        "print(x.shape)\n",
        "y=np.array([1 if i>0.49 else 0 for i in x])\n",
        "y=y.reshape((200,1))\n",
        "print(y.shape)\n",
        "# insert your code here\n",
        "plt.plot(x,y,\".\")"
      ],
      "execution_count": null,
      "outputs": [
        {
          "output_type": "stream",
          "text": [
            "(200,)\n",
            "(200, 1)\n",
            "(200, 1)\n"
          ],
          "name": "stdout"
        },
        {
          "output_type": "execute_result",
          "data": {
            "text/plain": [
              "[<matplotlib.lines.Line2D at 0x7fc3b3edc320>]"
            ]
          },
          "metadata": {
            "tags": []
          },
          "execution_count": 1
        },
        {
          "output_type": "display_data",
          "data": {
            "image/png": "[encoded data removed]",
            "text/plain": [
              "<Figure size 432x288 with 1 Axes>"
            ]
          },
          "metadata": {
            "tags": [],
            "needs_background": "light"
          }
        }
      ]
    },
    {
      "cell_type": "code",
      "metadata": {
        "id": "j1hwqHZpf-fv",
        "colab": {
          "base_uri": "https://localhost:8080/"
        },
        "outputId": "38ed9ef2-70e9-4786-b523-4b249997ceeb"
      },
      "source": [
        "x.shape"
      ],
      "execution_count": null,
      "outputs": [
        {
          "output_type": "execute_result",
          "data": {
            "text/plain": [
              "(200, 1)"
            ]
          },
          "metadata": {
            "tags": []
          },
          "execution_count": 2
        }
      ]
    },
    {
      "cell_type": "markdown",
      "metadata": {
        "id": "nxli0Pr6LLcC"
      },
      "source": [
        "Defining linear regression class"
      ]
    },
    {
      "cell_type": "code",
      "metadata": {
        "id": "r_Ht9UfyVeJA"
      },
      "source": [
        "# linear regression class\n",
        "class lin_regression:\n",
        "  # Constructor\n",
        "  def __init__(self, name='reg'):\n",
        "    self.name = name  # Create an instance variable\n",
        "\n",
        "  def grad_update(self,w_old,lr,y,x):\n",
        "    w= w_old + 2*lr*(np.mean((y-x.T@w_old)*x.T))\n",
        "    # insert your code here\n",
        "    return w\n",
        "\n",
        "  def error(self,w,y,x):\n",
        "    return np.mean(np.square(y-x.T@w))\n",
        "    # insert your code here\n",
        "\n",
        "  def mat_inv(self,y,x_aug):\n",
        "    return np.matmul(np.linalg.pinv(np.matmul(x_aug,x_aug.T)),np.matmul(x_aug,y))\n",
        "    # insert your code here\n",
        "    # by Gradien descent\n",
        "  def Regression_grad_des(self,x,y,lr):\n",
        "    m,n=x.shape\n",
        "    w=np.random.randn(m,1)\n",
        "    err=[]\n",
        "    for i in range(1000):\n",
        "     # insert your code here\n",
        "     err.append(self.error(w,y,x))\n",
        "     w=self.grad_update(w,lr,y,x)\n",
        "    err.append(self.error(w,y,x))\n",
        "    w_pred=w\n",
        "    return w_pred,err\n"
      ],
      "execution_count": null,
      "outputs": []
    },
    {
      "cell_type": "markdown",
      "metadata": {
        "id": "hE8LPW0zyGZO"
      },
      "source": [
        "Data augmentation and optimal weight generation"
      ]
    },
    {
      "cell_type": "code",
      "metadata": {
        "id": "c_Aw3KP0DP7e",
        "colab": {
          "base_uri": "https://localhost:8080/"
        },
        "outputId": "ae2364fc-e9c5-4379-ed59-d8e4bd97d5b7"
      },
      "source": [
        "# x=x[:,np.newaxis] \n",
        "x=x.T     # to make this in M x N format, where M is the dimension\n",
        "print(x.shape)\n",
        "x_aug=np.concatenate((np.ones((1,x.shape[1])), x),axis=0)\n",
        "print(x_aug.shape)\n",
        "\n",
        "\n",
        "ln_reg=lin_regression()\n",
        "w_opt=ln_reg.mat_inv(y,x_aug)\n"
      ],
      "execution_count": null,
      "outputs": [
        {
          "output_type": "stream",
          "text": [
            "(1, 200)\n",
            "(2, 200)\n"
          ],
          "name": "stdout"
        }
      ]
    },
    {
      "cell_type": "code",
      "metadata": {
        "id": "LdMqWoGxg6yt",
        "colab": {
          "base_uri": "https://localhost:8080/"
        },
        "outputId": "5a1dc1da-183f-4f19-be03-ee09e2313689"
      },
      "source": [
        "# (np.linalg.inv(x_aug @ x_aug.T) @ (x @ y))\n",
        "np.linalg.pinv(x_aug @ x_aug.T)"
      ],
      "execution_count": null,
      "outputs": [
        {
          "output_type": "execute_result",
          "data": {
            "text/plain": [
              "array([[ 0.01700035, -0.0289165 ],\n",
              "       [-0.0289165 ,  0.06967832]])"
            ]
          },
          "metadata": {
            "tags": []
          },
          "execution_count": 5
        }
      ]
    },
    {
      "cell_type": "markdown",
      "metadata": {
        "id": "KGYU-GL9Ns19"
      },
      "source": [
        "1. Optimal separating plane generation\n",
        "2. Classification (0.5 as threshold)\n"
      ]
    },
    {
      "cell_type": "code",
      "metadata": {
        "id": "jrCD1CW9HPQ6",
        "colab": {
          "base_uri": "https://localhost:8080/"
        },
        "outputId": "480c9739-3800-4367-a0d9-cf865ecbcabb"
      },
      "source": [
        "print(w_opt)"
      ],
      "execution_count": null,
      "outputs": [
        {
          "output_type": "stream",
          "text": [
            "[[-0.22291255]\n",
            " [ 1.74195796]]\n"
          ],
          "name": "stdout"
        }
      ]
    },
    {
      "cell_type": "code",
      "metadata": {
        "id": "Hk3hg8lIiVY8",
        "colab": {
          "base_uri": "https://localhost:8080/",
          "height": 547
        },
        "outputId": "86e95600-7c5a-44ea-fe1a-c452e8d46746"
      },
      "source": [
        "lr=0.05\n",
        "w_opt,ee=ln_reg.Regression_grad_des(x_aug,y,lr)\n",
        "plt.figure()\n",
        "plt.plot(ee)\n",
        "x11=np.array(list(range(1000)))/1000\n",
        "y11=x11*w_opt[1]+w_opt[0]\n",
        "plt.figure()\n",
        "plt.plot(x11,y11)\n",
        "plt.plot(x.T,y,\".\")\n",
        "plt.show()\n",
        "print(w_opt)"
      ],
      "execution_count": null,
      "outputs": [
        {
          "output_type": "display_data",
          "data": {
            "image/png": "[encoded data removed]",
            "text/plain": [
              "<Figure size 432x288 with 1 Axes>"
            ]
          },
          "metadata": {
            "tags": [],
            "needs_background": "light"
          }
        },
        {
          "output_type": "display_data",
          "data": {
            "image/png": "[encoded data removed]",
            "text/plain": [
              "<Figure size 432x288 with 1 Axes>"
            ]
          },
          "metadata": {
            "tags": [],
            "needs_background": "light"
          }
        },
        {
          "output_type": "stream",
          "text": [
            "[[-0.14111501]\n",
            " [ 1.56631842]]\n"
          ],
          "name": "stdout"
        }
      ]
    },
    {
      "cell_type": "markdown",
      "metadata": {
        "id": "ubVGPFPBr5vg"
      },
      "source": [
        "## Draw back of linear regression based classification\n",
        "1. Generate data (have outlairs noise)\n",
        "2. Find the fitting line.\n",
        "3. Using 0.5 as threshold, see the classification\n",
        "4. using matrix inversion (home work)\n"
      ]
    },
    {
      "cell_type": "code",
      "metadata": {
        "id": "Y2PNLjhNzPW7",
        "colab": {
          "base_uri": "https://localhost:8080/",
          "height": 333
        },
        "outputId": "3101134f-e1a8-494e-d0f2-0c31bd48ce55"
      },
      "source": [
        "import numpy as np\n",
        "import matplotlib.pyplot as plt\n",
        "x=list(range(100))+list(range(450,550))+list(range(750,850))\n",
        "x=np.array(x)/500\n",
        "print(x.shape)\n",
        "x=x.reshape((300,1))\n",
        "print(x.shape)\n",
        "y=np.array([1 if i>0.49 else 0 for i in x])\n",
        "y=y.reshape((300,1))\n",
        "print(y.shape)\n",
        "# insert your code here\n",
        "plt.plot(x,y,\".\")"
      ],
      "execution_count": null,
      "outputs": [
        {
          "output_type": "stream",
          "text": [
            "(300,)\n",
            "(300, 1)\n",
            "(300, 1)\n"
          ],
          "name": "stdout"
        },
        {
          "output_type": "execute_result",
          "data": {
            "text/plain": [
              "[<matplotlib.lines.Line2D at 0x7f7cb741b198>]"
            ]
          },
          "metadata": {
            "tags": []
          },
          "execution_count": 11
        },
        {
          "output_type": "display_data",
          "data": {
            "image/png": "[encoded data removed]",
            "text/plain": [
              "<Figure size 432x288 with 1 Axes>"
            ]
          },
          "metadata": {
            "tags": [],
            "needs_background": "light"
          }
        }
      ]
    },
    {
      "cell_type": "markdown",
      "metadata": {
        "id": "C7uM2mMgOL2r"
      },
      "source": [
        "Augment data"
      ]
    },
    {
      "cell_type": "code",
      "metadata": {
        "id": "r5wnJ-7Ga-z1",
        "colab": {
          "base_uri": "https://localhost:8080/"
        },
        "outputId": "4c90181f-4351-429c-c375-49861c6ca557"
      },
      "source": [
        "# Augment data\n",
        "\n",
        "# x=x[:,np.newaxis]\n",
        "# y=y[:,np.newaxis]\n",
        "\n",
        "x_aug=np.concatenate((np.ones((1,x.shape[0])), x.T),axis=0)\n",
        "print(x_aug.shape)\n",
        "\n"
      ],
      "execution_count": null,
      "outputs": [
        {
          "output_type": "stream",
          "text": [
            "(2, 300)\n"
          ],
          "name": "stdout"
        }
      ]
    },
    {
      "cell_type": "markdown",
      "metadata": {
        "id": "3rvRLZbROQNZ"
      },
      "source": [
        "1. find optimal weight\n",
        "2. perform classification (0.5 as threshold)"
      ]
    },
    {
      "cell_type": "code",
      "metadata": {
        "id": "T7GGW3bbdb8I",
        "colab": {
          "base_uri": "https://localhost:8080/",
          "height": 547
        },
        "outputId": "243426ec-cb43-41c8-a2fa-2fac4f3d4f87"
      },
      "source": [
        "lr=0.1\n",
        "lin_reg=lin_regression()\n",
        "w_opt,ee=ln_reg.Regression_grad_des(x_aug,y,lr)\n",
        "plt.figure()\n",
        "plt.plot(ee)\n",
        "x11=np.array(list(range(1000)))/500\n",
        "y11=x11*w_opt[1]+w_opt[0]\n",
        "plt.figure()\n",
        "plt.plot(x11,y11)\n",
        "plt.plot(x,y,\".\")\n",
        "plt.show()\n",
        "print(w_opt)\n",
        "# insert your code here"
      ],
      "execution_count": null,
      "outputs": [
        {
          "output_type": "display_data",
          "data": {
            "image/png": "[encoded data removed]",
            "text/plain": [
              "<Figure size 432x288 with 1 Axes>"
            ]
          },
          "metadata": {
            "tags": [],
            "needs_background": "light"
          }
        },
        {
          "output_type": "display_data",
          "data": {
            "image/png": "[encoded data removed]",
            "text/plain": [
              "<Figure size 432x288 with 1 Axes>"
            ]
          },
          "metadata": {
            "tags": [],
            "needs_background": "light"
          }
        },
        {
          "output_type": "stream",
          "text": [
            "[[-0.73392856]\n",
            " [ 1.39983229]]\n"
          ],
          "name": "stdout"
        }
      ]
    },
    {
      "cell_type": "markdown",
      "metadata": {
        "id": "praLrLBjM2EW"
      },
      "source": [
        "# logistic regression\n",
        "1. Error surface (logistic loss vs. MSE)\n",
        "2. Solve the outlair issue\n",
        "3. Circularly separable data classification\n",
        "4. Multiclass classification"
      ]
    },
    {
      "cell_type": "markdown",
      "metadata": {
        "id": "mdHTm3EhDYdr"
      },
      "source": [
        "## Error surface (logistic loss vs. MSE)"
      ]
    },
    {
      "cell_type": "code",
      "metadata": {
        "id": "cU3DV5bkDX8c",
        "colab": {
          "base_uri": "https://localhost:8080/",
          "height": 299
        },
        "outputId": "643dcc9c-2970-4b2d-b947-0d4c1dc9ed22"
      },
      "source": [
        "import numpy as np\n",
        "import matplotlib.pyplot as plt\n",
        "\n",
        "\n",
        "x=np.linspace(-5,5,25).reshape((25,1))\n",
        "y=np.zeros(x.shape)\n",
        "y[np.where(x>0.7314)]=1\n",
        "print(x.shape,y.shape)\n",
        "plt.plot(x,y,'.')"
      ],
      "execution_count": null,
      "outputs": [
        {
          "output_type": "stream",
          "text": [
            "(25, 1) (25, 1)\n"
          ],
          "name": "stdout"
        },
        {
          "output_type": "execute_result",
          "data": {
            "text/plain": [
              "[<matplotlib.lines.Line2D at 0x7fc3b3e56c50>]"
            ]
          },
          "metadata": {
            "tags": []
          },
          "execution_count": 2
        },
        {
          "output_type": "display_data",
          "data": {
            "image/png": "[encoded data removed]",
            "text/plain": [
              "<Figure size 432x288 with 1 Axes>"
            ]
          },
          "metadata": {
            "tags": [],
            "needs_background": "light"
          }
        }
      ]
    },
    {
      "cell_type": "markdown",
      "metadata": {
        "id": "tIdvMRuDLOGM"
      },
      "source": [
        "1. MSE=$\\frac{1}{2N}\\sum_{i=1}^{N}(y^{p}_{i}-y_{i})^2$, where $y^{p}=\\frac{1}{1+e^{-w^{T}x}}$\n",
        "2. Logistic loss=$-\\frac{1}{N}\\sum_{i=1}^{N}y_{i}log(y^{p}_{i})+(1-y_{i})log(1-y_{i}^{p})$"
      ]
    },
    {
      "cell_type": "code",
      "metadata": {
        "id": "ds220Jd86IQb",
        "colab": {
          "base_uri": "https://localhost:8080/"
        },
        "outputId": "83e6876f-68ac-47ea-ded9-36f8f3ec74f0"
      },
      "source": [
        "w1_in=10/(x[1]-x[0])\n",
        "w0=-w1_in*0.7314\n",
        "w1=np.linspace(-w1_in,4*w1_in,100)\n",
        "print(w1[-1],w0)"
      ],
      "execution_count": null,
      "outputs": [
        {
          "output_type": "stream",
          "text": [
            "[96.] [-17.5536]\n"
          ],
          "name": "stdout"
        }
      ]
    },
    {
      "cell_type": "code",
      "metadata": {
        "id": "Bxb9nZzoBupW",
        "colab": {
          "base_uri": "https://localhost:8080/",
          "height": 282
        },
        "outputId": "ed841040-9ccb-4bb6-8c72-9f22b4a0e5f1"
      },
      "source": [
        "def logistic_predict(w1,w0,x):\n",
        "  return np.clip(1/(1+np.exp(-(w0+w1*x))).reshape(y.shape),0.000000000000000000001,0.9999999)\n",
        "\n",
        "def Mse(y,y_pred):\n",
        "  return np.mean(np.square(y-y_pred))/2\n",
        "\n",
        "def Logistic_loss(y,y_pred):\n",
        "  return float(-( y.T @ (np.log(y_pred)) + (1-y).T @ (np.log(1-y_pred)) )/len(y))\n",
        "\n",
        "cost_fn_mse=[]\n",
        "cost_fn_logis=[]\n",
        "for i in range(w1.shape[0]):\n",
        "  y_pred=logistic_predict(w1[i],w0,x)\n",
        "  cost_mse=Mse(y,y_pred)\n",
        " # insert your code here\n",
        "  cost_fn_mse.append(cost_mse)\n",
        "  cost_logis=Logistic_loss(y,y_pred)# insert your code here\n",
        "  cost_fn_logis.append(cost_logis)\n",
        "# print(y_pred)\n",
        "plt.figure()\n",
        "plt.plot(w1,np.log(cost_fn_mse))\n",
        "plt.plot(w1,np.log(cost_fn_logis).reshape(100,1))"
      ],
      "execution_count": null,
      "outputs": [
        {
          "output_type": "execute_result",
          "data": {
            "text/plain": [
              "[<matplotlib.lines.Line2D at 0x7fc3b396e2b0>]"
            ]
          },
          "metadata": {
            "tags": []
          },
          "execution_count": 4
        },
        {
          "output_type": "display_data",
          "data": {
            "image/png": "[encoded data removed]",
            "text/plain": [
              "<Figure size 432x288 with 1 Axes>"
            ]
          },
          "metadata": {
            "tags": [],
            "needs_background": "light"
          }
        }
      ]
    },
    {
      "cell_type": "markdown",
      "metadata": {
        "id": "lzRAXAYsiuhp"
      },
      "source": [
        "## Solve the outlier issue\n"
      ]
    },
    {
      "cell_type": "code",
      "metadata": {
        "id": "3aktn82Srg31",
        "colab": {
          "base_uri": "https://localhost:8080/",
          "height": 333
        },
        "outputId": "c1cd8123-943c-484e-e31c-73c5c41c0c94"
      },
      "source": [
        "import numpy as np\n",
        "import matplotlib.pyplot as plt\n",
        "x=list(range(100))+list(range(450,550))+list(range(750,850))\n",
        "x=np.array(x)/500\n",
        "print(x.shape)\n",
        "x=x.reshape((300,1))\n",
        "print(x.shape)\n",
        "y=np.array([1 if i>0.49 else 0 for i in x])\n",
        "y=y.reshape((300,1))\n",
        "print(y.shape)\n",
        "# insert your code here\n",
        "plt.scatter(x,y,c=y)"
      ],
      "execution_count": null,
      "outputs": [
        {
          "output_type": "stream",
          "text": [
            "(300,)\n",
            "(300, 1)\n",
            "(300, 1)\n"
          ],
          "name": "stdout"
        },
        {
          "output_type": "execute_result",
          "data": {
            "text/plain": [
              "<matplotlib.collections.PathCollection at 0x7f47e4d69c88>"
            ]
          },
          "metadata": {
            "tags": []
          },
          "execution_count": 43
        },
        {
          "output_type": "display_data",
          "data": {
            "image/png": "[encoded data removed]",
            "text/plain": [
              "<Figure size 432x288 with 1 Axes>"
            ]
          },
          "metadata": {
            "tags": [],
            "needs_background": "light"
          }
        }
      ]
    },
    {
      "cell_type": "code",
      "metadata": {
        "id": "XUuy5McaaP3U",
        "colab": {
          "base_uri": "https://localhost:8080/"
        },
        "outputId": "f5b0b786-62ef-4b47-86a2-f4c706f837e2"
      },
      "source": [
        "x[0]"
      ],
      "execution_count": null,
      "outputs": [
        {
          "output_type": "execute_result",
          "data": {
            "text/plain": [
              "array([0.])"
            ]
          },
          "metadata": {
            "tags": []
          },
          "execution_count": 44
        }
      ]
    },
    {
      "cell_type": "code",
      "metadata": {
        "id": "PE5x893HD4Km"
      },
      "source": [
        "class logis_regression:\n",
        "  # Constructor\n",
        "  def __init__(self, name='reg'):\n",
        "    self.name = name  # Create an instance variable\n",
        "  \n",
        "  def logis(self,x,w_old):\n",
        "    h=x.T @ w_old\n",
        "    op = 1/(1+np.exp(-h))\n",
        "    op=np.clip(op,0.000000000000000000001,0.9999999)\n",
        "    # insert your code here\n",
        "    return op\n",
        "\n",
        "  def grad_update(self,w_old,lr,y,x):\n",
        "    op = self.logis(x,w_old)\n",
        "    w = w_old - lr*((x @ (op-y)))/len(y)\n",
        "    # insert your code here\n",
        "    return w\n",
        "\n",
        "  def error(self,w,y,x):\n",
        "    op = self.logis(x,w)\n",
        "    return -(np.mean(y*np.log(op)+(1-y)*np.log(1-op)))\n",
        "    # insert your code here\n",
        "\n",
        "    # by Gradien descent\n",
        "  def Regression_grad_des(self,x,y,lr):\n",
        "    m,n=x.shape\n",
        "    w=np.random.randn(m,1)\n",
        "    err=[self.error(w,y,x)]\n",
        "    for i in range(1000):\n",
        "      w = self.grad_update(w,lr,y,x)\n",
        "      e= self.error(w,y,x)\n",
        "      dev = (err[-1]-e)*10000\n",
        "      err.append(e)\n",
        "      # insert your code here\n",
        "      if dev<=10**(-20):\n",
        "        break\n",
        "    return w,err"
      ],
      "execution_count": null,
      "outputs": []
    },
    {
      "cell_type": "code",
      "metadata": {
        "id": "8pRanc1ejLWO",
        "colab": {
          "base_uri": "https://localhost:8080/"
        },
        "outputId": "eaf984af-87b2-4eb2-847c-899c2afb4eb1"
      },
      "source": [
        "# augmentation and data formating\n",
        "\n",
        "# x=x[:,np.newaxis]\n",
        "# y=y[:,np.newaxis]\n",
        "print(x.shape)\n",
        "x_aug=np.concatenate((np.ones((1,x.shape[0])), x.T),axis=0)\n",
        "\n",
        "x_aug.shape"
      ],
      "execution_count": null,
      "outputs": [
        {
          "output_type": "stream",
          "text": [
            "(300, 1)\n"
          ],
          "name": "stdout"
        },
        {
          "output_type": "execute_result",
          "data": {
            "text/plain": [
              "(2, 300)"
            ]
          },
          "metadata": {
            "tags": []
          },
          "execution_count": 46
        }
      ]
    },
    {
      "cell_type": "code",
      "metadata": {
        "id": "v-j1E-JYiHGI",
        "colab": {
          "base_uri": "https://localhost:8080/",
          "height": 318
        },
        "outputId": "725a5a99-819d-4669-88bd-b3d591f9353d"
      },
      "source": [
        "\n",
        "log_reg=logis_regression()\n",
        "w_pred,err=log_reg.Regression_grad_des(x_aug,y,0.01)\n",
        "print(w_pred)\n",
        "\n",
        "plt.plot(err)"
      ],
      "execution_count": null,
      "outputs": [
        {
          "output_type": "stream",
          "text": [
            "[[-2.61614821]\n",
            " [ 5.21574693]]\n"
          ],
          "name": "stdout"
        },
        {
          "output_type": "execute_result",
          "data": {
            "text/plain": [
              "[<matplotlib.lines.Line2D at 0x7f47e4c67e80>]"
            ]
          },
          "metadata": {
            "tags": []
          },
          "execution_count": 49
        },
        {
          "output_type": "display_data",
          "data": {
            "image/png": "[encoded data removed]",
            "text/plain": [
              "<Figure size 432x288 with 1 Axes>"
            ]
          },
          "metadata": {
            "tags": [],
            "needs_background": "light"
          }
        }
      ]
    },
    {
      "cell_type": "code",
      "metadata": {
        "id": "hSrwyehLnyID",
        "colab": {
          "base_uri": "https://localhost:8080/",
          "height": 282
        },
        "outputId": "1d181d04-fc93-4be6-9467-36272b3902e5"
      },
      "source": [
        "op=log_reg.logis(x_aug,w_pred)\n",
        "plt.figure()\n",
        "plt.scatter(x,y,c=y)\n",
        "plt.plot(x,op)"
      ],
      "execution_count": null,
      "outputs": [
        {
          "output_type": "execute_result",
          "data": {
            "text/plain": [
              "[<matplotlib.lines.Line2D at 0x7f47e51c2198>]"
            ]
          },
          "metadata": {
            "tags": []
          },
          "execution_count": 37
        },
        {
          "output_type": "display_data",
          "data": {
            "image/png": "[encoded data removed]",
            "text/plain": [
              "<Figure size 432x288 with 1 Axes>"
            ]
          },
          "metadata": {
            "tags": [],
            "needs_background": "light"
          }
        }
      ]
    },
    {
      "cell_type": "markdown",
      "metadata": {
        "id": "9poZ8N56Z94R"
      },
      "source": [
        "## Classification of circularly separated data using logistic regression\n",
        "\n"
      ]
    },
    {
      "cell_type": "code",
      "metadata": {
        "id": "BB9LN7-QZ9Lb",
        "colab": {
          "base_uri": "https://localhost:8080/",
          "height": 605
        },
        "outputId": "ec764ea3-325d-4340-de97-ad885498b563"
      },
      "source": [
        "# Generating circularly separated data\n",
        "import numpy as np\n",
        "import matplotlib.pyplot as plt\n",
        "\n",
        "\n",
        "x1=np.linspace(-3,3,20)\n",
        "x2=np.linspace(-3,3,20)\n",
        "\n",
        "x11,x22=np.meshgrid(x1,x2)\n",
        "plt.plot(x11,x22,'.')\n"
      ],
      "execution_count": null,
      "outputs": [
        {
          "output_type": "execute_result",
          "data": {
            "text/plain": [
              "[<matplotlib.lines.Line2D at 0x7f47e4bcd550>,\n",
              " <matplotlib.lines.Line2D at 0x7f47e4bcd630>,\n",
              " <matplotlib.lines.Line2D at 0x7f47e4bcd780>,\n",
              " <matplotlib.lines.Line2D at 0x7f47e4bcd8d0>,\n",
              " <matplotlib.lines.Line2D at 0x7f47e4bcda20>,\n",
              " <matplotlib.lines.Line2D at 0x7f47e4bcdb70>,\n",
              " <matplotlib.lines.Line2D at 0x7f47e4bcdcc0>,\n",
              " <matplotlib.lines.Line2D at 0x7f47e4bcde10>,\n",
              " <matplotlib.lines.Line2D at 0x7f47e4bcdf60>,\n",
              " <matplotlib.lines.Line2D at 0x7f47e4bd50f0>,\n",
              " <matplotlib.lines.Line2D at 0x7f47e4c036d8>,\n",
              " <matplotlib.lines.Line2D at 0x7f47e4bd5358>,\n",
              " <matplotlib.lines.Line2D at 0x7f47e4bd54a8>,\n",
              " <matplotlib.lines.Line2D at 0x7f47e4bd55f8>,\n",
              " <matplotlib.lines.Line2D at 0x7f47e4bd5748>,\n",
              " <matplotlib.lines.Line2D at 0x7f47e4bd5898>,\n",
              " <matplotlib.lines.Line2D at 0x7f47e4bd59e8>,\n",
              " <matplotlib.lines.Line2D at 0x7f47e4bd5b38>,\n",
              " <matplotlib.lines.Line2D at 0x7f47e4bd5c88>,\n",
              " <matplotlib.lines.Line2D at 0x7f47e4bd5dd8>]"
            ]
          },
          "metadata": {
            "tags": []
          },
          "execution_count": 50
        },
        {
          "output_type": "display_data",
          "data": {
            "image/png": "[encoded data removed]",
            "text/plain": [
              "<Figure size 432x288 with 1 Axes>"
            ]
          },
          "metadata": {
            "tags": [],
            "needs_background": "light"
          }
        }
      ]
    },
    {
      "cell_type": "markdown",
      "metadata": {
        "id": "UH3gwRKNbf34"
      },
      "source": [
        "1. Circularly separated data generation"
      ]
    },
    {
      "cell_type": "code",
      "metadata": {
        "id": "EP4mon7Rc80v",
        "colab": {
          "base_uri": "https://localhost:8080/",
          "height": 350
        },
        "outputId": "a78c2e8d-37fa-44f3-f4f4-73c5b544c28a"
      },
      "source": [
        "x1=x11.flatten()\n",
        "x2=x22.flatten()\n",
        "\n",
        "x=np.concatenate((x1[:,np.newaxis],x2[:,np.newaxis]),axis=1) # to make matrix format\n",
        "print(x.shape)\n",
        "\n",
        "aind=np.where((x[:,0]**(2)+x[:,1]**(2))<=0.9)\n",
        "\n",
        "bind=np.where((x[:,0]**(2)+x[:,1]**(2))>=2.2)\n",
        "# print(aind)\n",
        "x1=x[aind[0],:]\n",
        "x2=x[bind[0],:]\n",
        "print(x1.shape)\n",
        "print(x2.shape)\n",
        "x=np.concatenate((x1,x2))\n",
        "print(x.shape)\n",
        "\n",
        "plt.plot(x[:,0],x[:,1],'.')"
      ],
      "execution_count": null,
      "outputs": [
        {
          "output_type": "stream",
          "text": [
            "(400, 2)\n",
            "(32, 2)\n",
            "(332, 2)\n",
            "(364, 2)\n"
          ],
          "name": "stdout"
        },
        {
          "output_type": "execute_result",
          "data": {
            "text/plain": [
              "[<matplotlib.lines.Line2D at 0x7f47e4b705f8>]"
            ]
          },
          "metadata": {
            "tags": []
          },
          "execution_count": 51
        },
        {
          "output_type": "display_data",
          "data": {
            "image/png": "[encoded data removed]",
            "text/plain": [
              "<Figure size 432x288 with 1 Axes>"
            ]
          },
          "metadata": {
            "tags": [],
            "needs_background": "light"
          }
        }
      ]
    },
    {
      "cell_type": "markdown",
      "metadata": {
        "id": "ZBZR6c0JcnDm"
      },
      "source": [
        "As in case of circularly separated data, the boundary is nonlinear, so squred feature is taken."
      ]
    },
    {
      "cell_type": "code",
      "metadata": {
        "id": "OvI2_KIfhKsS",
        "colab": {
          "base_uri": "https://localhost:8080/",
          "height": 299
        },
        "outputId": "6b8dd5fe-e0fc-4cfe-9bc9-e8422c87d90b"
      },
      "source": [
        "# perform logistic regression\n",
        "\n",
        "y1=np.zeros((x1.shape[0]))\n",
        "y2=np.ones((x2.shape[0]))\n",
        "y=np.concatenate((y1,y2))\n",
        "\n",
        "x_aug=np.concatenate((np.ones((1,x.shape[0])), (x.T)**2),axis=0)# insert your code here    # squring to learn circular separation\n",
        "print(x_aug.shape)\n",
        "\n",
        "log_reg=logis_regression()\n",
        "w_pred,err=log_reg.Regression_grad_des(x_aug,y[:,np.newaxis],0.024)\n",
        "plt.plot(err)\n"
      ],
      "execution_count": null,
      "outputs": [
        {
          "output_type": "stream",
          "text": [
            "(3, 364)\n"
          ],
          "name": "stdout"
        },
        {
          "output_type": "execute_result",
          "data": {
            "text/plain": [
              "[<matplotlib.lines.Line2D at 0x7f47e4c1b860>]"
            ]
          },
          "metadata": {
            "tags": []
          },
          "execution_count": 58
        },
        {
          "output_type": "display_data",
          "data": {
            "image/png": "[encoded data removed]",
            "text/plain": [
              "<Figure size 432x288 with 1 Axes>"
            ]
          },
          "metadata": {
            "tags": [],
            "needs_background": "light"
          }
        }
      ]
    },
    {
      "cell_type": "markdown",
      "metadata": {
        "id": "aPZH3-2FdCMB"
      },
      "source": [
        "Plot classification using 0.5 as threshold"
      ]
    },
    {
      "cell_type": "code",
      "metadata": {
        "id": "l1TpUN-ruQYR",
        "colab": {
          "base_uri": "https://localhost:8080/",
          "height": 282
        },
        "outputId": "998e3d85-514f-408e-fb3a-ede898693c9b"
      },
      "source": [
        "y_pred=log_reg.logis(x_aug,w_pred)\n",
        "plt.scatter(x[:,0],x[:,1],c=y_pred>0.5)"
      ],
      "execution_count": null,
      "outputs": [
        {
          "output_type": "execute_result",
          "data": {
            "text/plain": [
              "<matplotlib.collections.PathCollection at 0x7f47e4dee940>"
            ]
          },
          "metadata": {
            "tags": []
          },
          "execution_count": 59
        },
        {
          "output_type": "display_data",
          "data": {
            "image/png": "[encoded data removed]",
            "text/plain": [
              "<Figure size 432x288 with 1 Axes>"
            ]
          },
          "metadata": {
            "tags": [],
            "needs_background": "light"
          }
        }
      ]
    },
    {
      "cell_type": "markdown",
      "metadata": {
        "id": "Lb-RLgsnC23C"
      },
      "source": [
        "## Multiclass logistic regression\n",
        "\n",
        "1. Generate 1D data with 3 classes\n"
      ]
    },
    {
      "cell_type": "markdown",
      "metadata": {
        "id": "GgonBFE8I2IL"
      },
      "source": [
        "### One vs rest classification\n",
        "\n",
        "1. lets take polynomial of order 2 (by seeing the data distribution)"
      ]
    },
    {
      "cell_type": "code",
      "metadata": {
        "id": "AcyM3i2N673z",
        "colab": {
          "base_uri": "https://localhost:8080/",
          "height": 299
        },
        "outputId": "e33ef664-9e8e-4bc6-8895-0bc2f10039f1"
      },
      "source": [
        "import numpy as np\n",
        "import matplotlib.pyplot as plt\n",
        "\n",
        "x1=np.linspace(0,0.6,100)\n",
        "x2=np.linspace(1.1,2.7,100)\n",
        "x3=np.linspace(3.5,3.8,100)\n",
        "\n",
        "x=np.concatenate((x1,x2,x3))\n",
        "print(x.shape)\n",
        "\n",
        "y1=np.zeros(x1.shape)\n",
        "y2=np.ones(x2.shape)\n",
        "y3=np.tile([2],x3.shape)\n",
        "\n",
        "y=np.concatenate((y1,y2,y3))\n",
        "\n",
        "plt.figure()\n",
        "plt.scatter(x,y,c=y)\n"
      ],
      "execution_count": null,
      "outputs": [
        {
          "output_type": "stream",
          "text": [
            "(300,)\n"
          ],
          "name": "stdout"
        },
        {
          "output_type": "execute_result",
          "data": {
            "text/plain": [
              "<matplotlib.collections.PathCollection at 0x7f47e47caf28>"
            ]
          },
          "metadata": {
            "tags": []
          },
          "execution_count": 60
        },
        {
          "output_type": "display_data",
          "data": {
            "image/png": "[encoded data removed]",
            "text/plain": [
              "<Figure size 432x288 with 1 Axes>"
            ]
          },
          "metadata": {
            "tags": [],
            "needs_background": "light"
          }
        }
      ]
    },
    {
      "cell_type": "code",
      "metadata": {
        "id": "wBzA2n2eI1Oe"
      },
      "source": [
        "def data_transform(X,degree): \n",
        "  X_new=[]      \n",
        "  for i in range(degree +1):\n",
        "    X_new.append(X**i)              \n",
        "  X_new = np.concatenate(X_new)  \n",
        "  return X_new"
      ],
      "execution_count": null,
      "outputs": []
    },
    {
      "cell_type": "code",
      "metadata": {
        "id": "EIO8_Rnrngkt",
        "colab": {
          "base_uri": "https://localhost:8080/"
        },
        "outputId": "bbb73c27-b12d-40de-8f1b-634e46e10469"
      },
      "source": [
        "x_aug=data_transform(x[np.newaxis,:],2)\n",
        "print(x_aug.shape)"
      ],
      "execution_count": null,
      "outputs": [
        {
          "output_type": "stream",
          "text": [
            "(3, 300)\n"
          ],
          "name": "stdout"
        }
      ]
    },
    {
      "cell_type": "code",
      "metadata": {
        "id": "3MPgINWrup_m"
      },
      "source": [
        "# plot for classification\n",
        "def plot_op(x,y_pred):\n",
        "  yy=[1 if i>0.5 else 0 for i in y_pred]\n",
        "  plt.scatter(x,yy,c=yy)\n",
        "  # insert your code here\n",
        "\n",
        "  # x0=x[ind0,:]\n",
        "  # x1=x[ind1,:]\n",
        "\n",
        "\n",
        "  # plt.plot(x0,np.zeros((x0).shape),'o',color='y')\n",
        "  # plt.plot(x1,np.ones((x1).shape),'x',color='r')"
      ],
      "execution_count": null,
      "outputs": []
    },
    {
      "cell_type": "code",
      "metadata": {
        "id": "efpGxlxvn8Bg",
        "colab": {
          "base_uri": "https://localhost:8080/",
          "height": 564
        },
        "outputId": "69508ab7-3697-4c19-8e09-da038dcdcad6"
      },
      "source": [
        "# take class 0 as '0' and other to '1'\n",
        "# insert your code here\n",
        "y1_mod=(y!=0)\n",
        "log_reg=logis_regression()\n",
        "w1_pred,err=log_reg.Regression_grad_des(x_aug,y1_mod[:,np.newaxis],0.1)\n",
        "\n",
        "plt.plot(err)\n",
        "print(w1_pred)\n",
        "\n",
        "\n",
        "# ploting\n",
        "plt.figure()\n",
        "plt.plot(x,y1_mod,'.')\n",
        "\n",
        "y1_pred=log_reg.logis(x_aug,w1_pred)\n",
        "plt.plot(x,y1_pred[:,0])\n",
        "plot_op(x[:,np.newaxis],y1_pred)\n",
        "\n"
      ],
      "execution_count": null,
      "outputs": [
        {
          "output_type": "stream",
          "text": [
            "[[-3.49911996]\n",
            " [ 1.22119725]\n",
            " [ 2.59105886]]\n"
          ],
          "name": "stdout"
        },
        {
          "output_type": "display_data",
          "data": {
            "image/png": "[encoded data removed]",
            "text/plain": [
              "<Figure size 432x288 with 1 Axes>"
            ]
          },
          "metadata": {
            "tags": [],
            "needs_background": "light"
          }
        },
        {
          "output_type": "display_data",
          "data": {
            "image/png": "[encoded data removed]",
            "text/plain": [
              "<Figure size 432x288 with 1 Axes>"
            ]
          },
          "metadata": {
            "tags": [],
            "needs_background": "light"
          }
        }
      ]
    },
    {
      "cell_type": "code",
      "metadata": {
        "id": "m9bYJ1oZtSMq",
        "colab": {
          "base_uri": "https://localhost:8080/",
          "height": 568
        },
        "outputId": "495a1a3c-1547-4761-aa01-1dcf657a745e"
      },
      "source": [
        "# take class 1 as '0' and other to '1'\n",
        "# insert your code here\n",
        "\n",
        "y2_mod=(y!=1)\n",
        "log_reg=logis_regression()\n",
        "w2_pred,err=log_reg.Regression_grad_des(x_aug,y2_mod[:,np.newaxis],0.1)\n",
        "plt.plot(err)\n",
        "print(w2_pred)\n",
        "# ploting\n",
        "plt.figure()\n",
        "plt.plot(x,y2_mod,'.')\n",
        "\n",
        "y2_pred=log_reg.logis(x_aug,w2_pred)\n",
        "plt.plot(x,y2_pred[:,0])\n",
        "plot_op(x[:,np.newaxis],y2_pred)\n"
      ],
      "execution_count": null,
      "outputs": [
        {
          "output_type": "stream",
          "text": [
            "[[ 2.91921571]\n",
            " [-5.07044979]\n",
            " [ 1.3824636 ]]\n"
          ],
          "name": "stdout"
        },
        {
          "output_type": "display_data",
          "data": {
            "image/png": "[encoded data removed]",
            "text/plain": [
              "<Figure size 432x288 with 1 Axes>"
            ]
          },
          "metadata": {
            "tags": [],
            "needs_background": "light"
          }
        },
        {
          "output_type": "display_data",
          "data": {
            "image/png": "[encoded data removed]",
            "text/plain": [
              "<Figure size 432x288 with 1 Axes>"
            ]
          },
          "metadata": {
            "tags": [],
            "needs_background": "light"
          }
        }
      ]
    },
    {
      "cell_type": "code",
      "metadata": {
        "id": "G-PQFKvktnFc",
        "colab": {
          "base_uri": "https://localhost:8080/",
          "height": 564
        },
        "outputId": "b39fc0d0-bfaf-43aa-91f0-526b179cc723"
      },
      "source": [
        "# take class 2 as '0' and other to '1'\n",
        "# insert your code here\n",
        "# ploting\n",
        "y3_mod=(y!=2)\n",
        "log_reg=logis_regression()\n",
        "w3_pred,err=log_reg.Regression_grad_des(x_aug,y3_mod[:,np.newaxis],0.1)\n",
        "plt.plot(err)\n",
        "print(w3_pred)\n",
        "\n",
        "plt.figure()\n",
        "plt.plot(x,y3_mod,'.')\n",
        "\n",
        "\n",
        "y3_pred=log_reg.logis(x_aug,w3_pred)\n",
        "plt.plot(x,y3_pred[:,0])\n",
        "\n",
        "plot_op(x[:,np.newaxis],y3_pred)"
      ],
      "execution_count": null,
      "outputs": [
        {
          "output_type": "stream",
          "text": [
            "[[ 4.50750099]\n",
            " [ 2.0919366 ]\n",
            " [-1.21724381]]\n"
          ],
          "name": "stdout"
        },
        {
          "output_type": "display_data",
          "data": {
            "image/png": "[encoded data removed]",
            "text/plain": [
              "<Figure size 432x288 with 1 Axes>"
            ]
          },
          "metadata": {
            "tags": [],
            "needs_background": "light"
          }
        },
        {
          "output_type": "display_data",
          "data": {
            "image/png": "[encoded data removed]",
            "text/plain": [
              "<Figure size 432x288 with 1 Axes>"
            ]
          },
          "metadata": {
            "tags": [],
            "needs_background": "light"
          }
        }
      ]
    },
    {
      "cell_type": "code",
      "metadata": {
        "id": "DbEP_lxv0v8b",
        "colab": {
          "base_uri": "https://localhost:8080/",
          "height": 530
        },
        "outputId": "3a5641ad-6a98-426f-d6fb-c0a3b2ccfeef"
      },
      "source": [
        "yyy=y1_mod*0+y2_mod*1+y3_mod*2\n",
        "plt.figure()\n",
        "plt.scatter(x,y,c=y)\n",
        "plt.figure()\n",
        "plt.scatter(x,y,c=yyy)"
      ],
      "execution_count": null,
      "outputs": [
        {
          "output_type": "execute_result",
          "data": {
            "text/plain": [
              "<matplotlib.collections.PathCollection at 0x7f47e42616d8>"
            ]
          },
          "metadata": {
            "tags": []
          },
          "execution_count": 75
        },
        {
          "output_type": "display_data",
          "data": {
            "image/png": "[encoded data removed]",
            "text/plain": [
              "<Figure size 432x288 with 1 Axes>"
            ]
          },
          "metadata": {
            "tags": [],
            "needs_background": "light"
          }
        },
        {
          "output_type": "display_data",
          "data": {
            "image/png": "[encoded data removed]",
            "text/plain": [
              "<Figure size 432x288 with 1 Axes>"
            ]
          },
          "metadata": {
            "tags": [],
            "needs_background": "light"
          }
        }
      ]
    },
    {
      "cell_type": "markdown",
      "metadata": {
        "id": "Hozg7Cy_71ue"
      },
      "source": [
        "# Support vector machine\n",
        "\n",
        "1. Try to maximize the margin of separation between data.\n",
        "2. Instead of learning wx+b=0  separating hyperplane directly (like logistic regression), SVM try to learn wx+b=0, such that, the margin between two hyperplanes wx+b=1 and wx+b=-1 (also known as support vectors) is maximum. \n",
        "3. Margin between wx+b=1 and wx+b=-1 hyperplane is $\\frac{2}{||w||}$\n",
        "4. we have a constraint optimization problem of maximizing $\\frac{2}{||w||}$, with constraints wx+b>=1 (for +ve class) and wx+b<=-1 (for -ve class).\n",
        "5. As $y_{i}=1$ for +ve class and $y_{i}=-1$ for -ve class, the constraint can be re-written as:\n",
        "$$y(wx+b)>=1$$\n",
        "\n",
        "6. Final optimization is (i.e to find w and b):\n",
        "$$\\min_{||w||}\\frac{1}{2}||w||,$$\n",
        "$$y(wx+b) \\geq 1,~\\forall ~data $$\n",
        "\n",
        "\n",
        "\n",
        "\n",
        "\n",
        "\n",
        "\n",
        "\n",
        "\n",
        "\n",
        "\n",
        "\n",
        "Acknowledgement:\n",
        "\n",
        "https://pythonprogramming.net/predictions-svm-machine-learning-tutorial/\n",
        "\n",
        "https://medium.com/deep-math-machine-learning-ai/chapter-3-1-svm-from-scratch-in-python-86f93f853dc"
      ]
    },
    {
      "cell_type": "code",
      "metadata": {
        "id": "VZCCspO28ACg"
      },
      "source": [
        "import numpy as np\n",
        "import matplotlib.pyplot as plt\n",
        "import math"
      ],
      "execution_count": null,
      "outputs": []
    },
    {
      "cell_type": "markdown",
      "metadata": {
        "id": "dOe8btABKSBO"
      },
      "source": [
        "## Data generation:\n",
        "1. Generate 2D gaussian data with fixed mean and variance for 2 class.(var=Identity, class1: mean[-4,-4], class2: mean[1,1], No. of data 25 from each class)\n",
        "2. create the label matrix\n",
        "3. Plot the generated data"
      ]
    },
    {
      "cell_type": "code",
      "metadata": {
        "id": "ZMQCjODoKQBe",
        "colab": {
          "base_uri": "https://localhost:8080/",
          "height": 316
        },
        "outputId": "3269fad2-0464-4919-f69f-2d18ac31b1eb"
      },
      "source": [
        "No_sample=50\n",
        "mean1=np.array([-3,-3])\n",
        "var1=np.array([[1,0],[0,1]])\n",
        "mean2=np.array([1,1])\n",
        "var2=var1\n",
        "data1=np.random.multivariate_normal(mean1,var1,int(No_sample/2))\n",
        "data2=np.random.multivariate_normal(mean2,var2,int(No_sample/2))\n",
        "X=np.concatenate((data1,data2))\n",
        "print(X.shape)\n",
        "y=np.concatenate((-1*np.ones(data1.shape[0]),np.ones(data2.shape[0])))\n",
        "print(y.shape)\n",
        "\n",
        "plt.figure()\n",
        "plt.scatter(X[:,0],X[:,1],marker='o',c=y)"
      ],
      "execution_count": null,
      "outputs": [
        {
          "output_type": "stream",
          "text": [
            "(50, 2)\n",
            "(50,)\n"
          ],
          "name": "stdout"
        },
        {
          "output_type": "execute_result",
          "data": {
            "text/plain": [
              "<matplotlib.collections.PathCollection at 0x7f6ef51d0390>"
            ]
          },
          "metadata": {
            "tags": []
          },
          "execution_count": 3
        },
        {
          "output_type": "display_data",
          "data": {
            "image/png": "[encoded data removed]",
            "text/plain": [
              "<Figure size 432x288 with 1 Axes>"
            ]
          },
          "metadata": {
            "tags": [],
            "needs_background": "light"
          }
        }
      ]
    },
    {
      "cell_type": "markdown",
      "metadata": {
        "id": "1ecaYv7ZL0D_"
      },
      "source": [
        "Create a data dictionary, which contains both label and data points."
      ]
    },
    {
      "cell_type": "code",
      "metadata": {
        "id": "tv2YixzZcphV"
      },
      "source": [
        "postiveX=[]\n",
        "negativeX=[]\n",
        "for i,v in enumerate(y):\n",
        "    if v==-1:\n",
        "        negativeX.append(X[i])\n",
        "    else:\n",
        "        postiveX.append(X[i])\n",
        "\n",
        "#our data dictionary\n",
        "data_dict = {-1:np.array(negativeX), 1:np.array(postiveX)} "
      ],
      "execution_count": null,
      "outputs": []
    },
    {
      "cell_type": "markdown",
      "metadata": {
        "id": "p8Zk66RiWuS5"
      },
      "source": [
        "## SVM training\n",
        "1. create a search space for w (i.e w1=w2),[0, 0.5*max((abs(feat)))] and  for b, [-max((abs(feat))),max((abs(feat)))], with appropriate step.\n",
        "2. we will start with a higher step and find optimal w and b, then we will reduce the step and again re-evaluate the optimal one.\n",
        "\n",
        "3. In each step, we will take transform of w, [1,1], [-1,1],[1,-1] and [-1,-1] to search arround the w. \n",
        "\n",
        "4. In every pass (for a fixed step size) we will store all the w, b and its corresponding ||w||, which make the data correctly classified as per the condition $y(wx+b) \\geq 1$. \n",
        "\n",
        "5. Obtain the optimal hyperplane having minimum ||w||.\n",
        "\n",
        "6. Start with the optimal w and repeat the same (step 3,4 and 5) for a reduced step size.\n"
      ]
    },
    {
      "cell_type": "code",
      "metadata": {
        "id": "NEP494Lagi9d"
      },
      "source": [
        "def SVM_Training(data_dict):\n",
        "  i=0\n",
        "  length_Wvector = {}\n",
        "  transforms = [[1,1],[-1,1],[-1,-1],[1,-1]]\n",
        "  max_feature_value=max( np.amax(data_dict[-1]) , np.amax(data_dict[1]) )\n",
        "        \n",
        "  learning_rate = [max_feature_value * 0.1, max_feature_value * 0.01, max_feature_value * 0.001]\n",
        "  b_step_size = 2\n",
        "  b_multiple = 5\n",
        "  w_optimum = max_feature_value*0.5\n",
        "\n",
        "  for lrate in learning_rate:\n",
        "      \n",
        "      w = np.array([w_optimum,w_optimum])     \n",
        "      optimized = False\n",
        "      while not optimized:\n",
        "          #b=[-maxvalue to maxvalue] we wanna maximize the b values so check for every b value\n",
        "          for b in np.arange(-1*(max_feature_value*b_step_size), max_feature_value*b_step_size, lrate*b_multiple):\n",
        "              for transformation in transforms:  # transforms = [[1,1],[-1,1],[-1,-1],[1,-1]]\n",
        "                  w_t = w*transformation\n",
        "                  \n",
        "                  correctly_classified = True\n",
        "                  \n",
        "                  # every data point should be correct\n",
        "                  for yi in data_dict:\n",
        "                      for xi in data_dict[yi]:\n",
        "                          if yi*(np.dot(w_t,xi)+b) < 1:  # we want  yi*(np.dot(w_t,xi)+b) >= 1 for correct classification\n",
        "                              correctly_classified = False\n",
        "                              \n",
        "                  if correctly_classified:\n",
        "                      length_Wvector[np.linalg.norm(w_t)] = [w_t,b] #store w, b for minimum magnitude\n",
        "          \n",
        "          if w[0] < 0:\n",
        "              optimized = True\n",
        "          else:\n",
        "              w = w - lrate\n",
        "\n",
        "      norms = sorted([n for n in length_Wvector])\n",
        "      \n",
        "      minimum_wlength = length_Wvector[norms[0]]\n",
        "      w = minimum_wlength[0]\n",
        "      b = minimum_wlength[1]\n",
        "  return w,b"
      ],
      "execution_count": null,
      "outputs": []
    },
    {
      "cell_type": "code",
      "metadata": {
        "id": "AafDodH6c6BX"
      },
      "source": [
        "# it is just a searching algorithem, not a complicated optimization algorithem, (just for understanding of concepts through visualization)\n",
        "\n",
        "def SVM_Training(data_dict):\n",
        "  \n",
        "    # insert your code here\n",
        "    \n",
        "  return w,b\n",
        "\n"
      ],
      "execution_count": null,
      "outputs": []
    },
    {
      "cell_type": "markdown",
      "metadata": {
        "id": "JvFsoKXxe6IX"
      },
      "source": [
        "**Training**"
      ]
    },
    {
      "cell_type": "code",
      "metadata": {
        "id": "hxjxI_jRiDL1",
        "colab": {
          "base_uri": "https://localhost:8080/",
          "height": 351
        },
        "outputId": "ed4a9e66-080c-48d0-ceae-282ae48550e0"
      },
      "source": [
        "w=[] #weights 2 dimensional vector\n",
        "b=[] #bias\n",
        "w,b=SVM_Training(data_dict)\n",
        "print(w)\n",
        "print(b)"
      ],
      "execution_count": null,
      "outputs": [
        {
          "output_type": "error",
          "ename": "KeyboardInterrupt",
          "evalue": "ignored",
          "traceback": [
            "\u001b[0;31m---------------------------------------------------------------------------\u001b[0m",
            "\u001b[0;31mKeyboardInterrupt\u001b[0m                         Traceback (most recent call last)",
            "\u001b[0;32m<ipython-input-9-e1c062804031>\u001b[0m in \u001b[0;36m<module>\u001b[0;34m()\u001b[0m\n\u001b[1;32m      1\u001b[0m \u001b[0mw\u001b[0m\u001b[0;34m=\u001b[0m\u001b[0;34m[\u001b[0m\u001b[0;34m]\u001b[0m \u001b[0;31m#weights 2 dimensional vector\u001b[0m\u001b[0;34m\u001b[0m\u001b[0;34m\u001b[0m\u001b[0m\n\u001b[1;32m      2\u001b[0m \u001b[0mb\u001b[0m\u001b[0;34m=\u001b[0m\u001b[0;34m[\u001b[0m\u001b[0;34m]\u001b[0m \u001b[0;31m#bias\u001b[0m\u001b[0;34m\u001b[0m\u001b[0;34m\u001b[0m\u001b[0m\n\u001b[0;32m----> 3\u001b[0;31m \u001b[0mw\u001b[0m\u001b[0;34m,\u001b[0m\u001b[0mb\u001b[0m\u001b[0;34m=\u001b[0m\u001b[0mSVM_Training\u001b[0m\u001b[0;34m(\u001b[0m\u001b[0mdata_dict\u001b[0m\u001b[0;34m)\u001b[0m\u001b[0;34m\u001b[0m\u001b[0;34m\u001b[0m\u001b[0m\n\u001b[0m\u001b[1;32m      4\u001b[0m \u001b[0mprint\u001b[0m\u001b[0;34m(\u001b[0m\u001b[0mw\u001b[0m\u001b[0;34m)\u001b[0m\u001b[0;34m\u001b[0m\u001b[0;34m\u001b[0m\u001b[0m\n\u001b[1;32m      5\u001b[0m \u001b[0mprint\u001b[0m\u001b[0;34m(\u001b[0m\u001b[0mb\u001b[0m\u001b[0;34m)\u001b[0m\u001b[0;34m\u001b[0m\u001b[0;34m\u001b[0m\u001b[0m\n",
            "\u001b[0;32m<ipython-input-8-a999ec8dd840>\u001b[0m in \u001b[0;36mSVM_Training\u001b[0;34m(data_dict)\u001b[0m\n\u001b[1;32m     24\u001b[0m                   \u001b[0;31m# every data point should be correct\u001b[0m\u001b[0;34m\u001b[0m\u001b[0;34m\u001b[0m\u001b[0;34m\u001b[0m\u001b[0m\n\u001b[1;32m     25\u001b[0m                   \u001b[0;32mfor\u001b[0m \u001b[0myi\u001b[0m \u001b[0;32min\u001b[0m \u001b[0mdata_dict\u001b[0m\u001b[0;34m:\u001b[0m\u001b[0;34m\u001b[0m\u001b[0;34m\u001b[0m\u001b[0m\n\u001b[0;32m---> 26\u001b[0;31m                       \u001b[0;32mfor\u001b[0m \u001b[0mxi\u001b[0m \u001b[0;32min\u001b[0m \u001b[0mdata_dict\u001b[0m\u001b[0;34m[\u001b[0m\u001b[0myi\u001b[0m\u001b[0;34m]\u001b[0m\u001b[0;34m:\u001b[0m\u001b[0;34m\u001b[0m\u001b[0;34m\u001b[0m\u001b[0m\n\u001b[0m\u001b[1;32m     27\u001b[0m                           \u001b[0;32mif\u001b[0m \u001b[0myi\u001b[0m\u001b[0;34m*\u001b[0m\u001b[0;34m(\u001b[0m\u001b[0mnp\u001b[0m\u001b[0;34m.\u001b[0m\u001b[0mdot\u001b[0m\u001b[0;34m(\u001b[0m\u001b[0mw_t\u001b[0m\u001b[0;34m,\u001b[0m\u001b[0mxi\u001b[0m\u001b[0;34m)\u001b[0m\u001b[0;34m+\u001b[0m\u001b[0mb\u001b[0m\u001b[0;34m)\u001b[0m \u001b[0;34m<\u001b[0m \u001b[0;36m1\u001b[0m\u001b[0;34m:\u001b[0m  \u001b[0;31m# we want  yi*(np.dot(w_t,xi)+b) >= 1 for correct classification\u001b[0m\u001b[0;34m\u001b[0m\u001b[0;34m\u001b[0m\u001b[0m\n\u001b[1;32m     28\u001b[0m                               \u001b[0mcorrectly_classified\u001b[0m \u001b[0;34m=\u001b[0m \u001b[0;32mFalse\u001b[0m\u001b[0;34m\u001b[0m\u001b[0;34m\u001b[0m\u001b[0m\n",
            "\u001b[0;31mKeyboardInterrupt\u001b[0m: "
          ]
        }
      ]
    },
    {
      "cell_type": "code",
      "metadata": {
        "id": "CShR8NSac8BO",
        "colab": {
          "base_uri": "https://localhost:8080/",
          "height": 52
        },
        "outputId": "139171e5-e597-44ed-8c16-56d098038946"
      },
      "source": [
        "\n",
        "#all the required variables \n",
        "w=[] #weights 2 dimensional vector\n",
        "b=[] #bias\n",
        "w,b=SVM_Training(data_dict)\n",
        "print(w)\n",
        "print(b)"
      ],
      "execution_count": null,
      "outputs": [
        {
          "output_type": "stream",
          "text": [
            "[0.75384537 0.75384537]\n",
            "1.6351792900618864\n"
          ],
          "name": "stdout"
        }
      ]
    },
    {
      "cell_type": "markdown",
      "metadata": {
        "id": "d8jDgEH5fAKt"
      },
      "source": [
        "## Visualization of the SVM separating hyperplanes (after training)"
      ]
    },
    {
      "cell_type": "code",
      "metadata": {
        "id": "YYcTUEFZdKLd"
      },
      "source": [
        "def visualize(data_dict):\n",
        "       \n",
        "        \n",
        "        \n",
        "        \n",
        "        plt.scatter(X[:,0],X[:,1],marker='o',c=y)\n",
        "\n",
        "        # hyperplane = x.w+b\n",
        "        # v = x.w+b\n",
        "        # psv = 1\n",
        "        # nsv = -1\n",
        "        # dec = 0\n",
        "        def hyperplane_value(x,w,b,v):\n",
        "            return (-w[0]*x-b+v) / w[1]\n",
        "\n",
        "        \n",
        "        hyp_x_min = np.min([np.min(data_dict[1]),np.min(data_dict[-1])])\n",
        "        hyp_x_max = np.max([np.max(data_dict[1]),np.max(data_dict[-1])])\n",
        "\n",
        "        # (w.x+b) = 1\n",
        "        # positive support vector hyperplane\n",
        "        psv1 = hyperplane_value(hyp_x_min, w, b, 1)\n",
        "        psv2 = hyperplane_value(hyp_x_max, w, b, 1)\n",
        "        plt.plot([hyp_x_min,hyp_x_max],[psv1,psv2], 'k')\n",
        "\n",
        "        # (w.x+b) = -1\n",
        "        # negative support vector hyperplane\n",
        "        nsv1 = hyperplane_value(hyp_x_min, w, b, -1)\n",
        "        nsv2 = hyperplane_value(hyp_x_max, w, b, -1)\n",
        "        plt.plot([hyp_x_min,hyp_x_max],[nsv1,nsv2], 'k')\n",
        "\n",
        "        # (w.x+b) = 0\n",
        "        # positive support vector hyperplane\n",
        "        db1 = hyperplane_value(hyp_x_min, w, b, 0)\n",
        "        db2 = hyperplane_value(hyp_x_max, w, b, 0)\n",
        "        plt.plot([hyp_x_min,hyp_x_max],[db1,db2], 'y--')\n",
        "        \n",
        "        \n",
        "        "
      ],
      "execution_count": null,
      "outputs": []
    },
    {
      "cell_type": "code",
      "metadata": {
        "id": "GamcosyndOjq",
        "colab": {
          "base_uri": "https://localhost:8080/",
          "height": 265
        },
        "outputId": "1dbc81a0-cf75-4b33-e789-37b930a4c29d"
      },
      "source": [
        "fig = plt.figure()\n",
        "visualize(data_dict)"
      ],
      "execution_count": null,
      "outputs": [
        {
          "output_type": "display_data",
          "data": {
            "image/png": "[encoded data removed]",
            "text/plain": [
              "<Figure size 432x288 with 1 Axes>"
            ]
          },
          "metadata": {
            "tags": [],
            "needs_background": "light"
          }
        }
      ]
    },
    {
      "cell_type": "markdown",
      "metadata": {
        "id": "f-xxiXTufMsR"
      },
      "source": [
        "## Testing\n",
        "\n",
        "1. Generate test data as like training\n",
        "2. See the classification\n",
        "\n",
        "3. if $wx_{test}+b > 0$, $y_{test}=1$ else $y_{test}=-1$\n"
      ]
    },
    {
      "cell_type": "code",
      "metadata": {
        "id": "YLPt6JRHdJUI"
      },
      "source": [
        "def predict(data,w,b):\n",
        "  y_pred=np.sign(np.dot(data,w)+b)\n",
        "  return y_pred"
      ],
      "execution_count": null,
      "outputs": []
    },
    {
      "cell_type": "code",
      "metadata": {
        "id": "_qDbv7CDfL47",
        "colab": {
          "base_uri": "https://localhost:8080/",
          "height": 300
        },
        "outputId": "82b8307c-c1a1-40b7-f586-4139d9e17831"
      },
      "source": [
        "No_test_sample=40\n",
        "data1=np.random.multivariate_normal(mean1,var1,int(No_test_sample/2))\n",
        "data2=np.random.multivariate_normal(mean2,var2,int(No_test_sample/2))\n",
        "test_data=np.concatenate((data1,data2))\n",
        "y_gr=np.concatenate((-1*np.ones(data1.shape[0]),np.ones(data2.shape[0])))\n",
        "\n",
        "# evaluate with the trained model\n",
        "\n",
        "y_pred=predict(test_data,w,b)\n",
        "accuracy=# insert your code here\n",
        "print('test accuracy=',accuracy)\n",
        "\n",
        "#  Visualization\n",
        "plt.figure()\n",
        "visualize(data_dict)\n",
        "plt.scatter(test_data[:,0],test_data[:,1],marker='x',c=y_gr)\n",
        "\n",
        "\n"
      ],
      "execution_count": null,
      "outputs": [
        {
          "output_type": "stream",
          "text": [
            "test accuracy= 100.0\n"
          ],
          "name": "stdout"
        },
        {
          "output_type": "execute_result",
          "data": {
            "text/plain": [
              "<matplotlib.collections.PathCollection at 0x7feb64ddd748>"
            ]
          },
          "metadata": {
            "tags": []
          },
          "execution_count": 58
        },
        {
          "output_type": "display_data",
          "data": {
            "image/png": "[encoded data removed]",
            "text/plain": [
              "<Figure size 432x288 with 1 Axes>"
            ]
          },
          "metadata": {
            "tags": [],
            "needs_background": "light"
          }
        }
      ]
    }
  ]
}