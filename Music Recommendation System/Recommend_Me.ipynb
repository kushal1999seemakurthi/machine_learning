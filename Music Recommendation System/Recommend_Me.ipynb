{
  "nbformat": 4,
  "nbformat_minor": 0,
  "metadata": {
    "colab": {
      "name": "Recommend Me.ipynb",
      "provenance": []
    },
    "kernelspec": {
      "name": "python3",
      "display_name": "Python 3"
    }
  },
  "cells": [
    {
      "cell_type": "code",
      "metadata": {
        "id": "9oEZ8H1hQY8h",
        "outputId": "1337e0ad-bd6b-4188-a567-989745c714f3",
        "colab": {
          "base_uri": "https://localhost:8080/"
        }
      },
      "source": [
        "from google.colab import drive\n",
        "drive.mount('/content/drive')"
      ],
      "execution_count": null,
      "outputs": [
        {
          "output_type": "stream",
          "text": [
            "Drive already mounted at /content/drive; to attempt to forcibly remount, call drive.mount(\"/content/drive\", force_remount=True).\n"
          ],
          "name": "stdout"
        }
      ]
    },
    {
      "cell_type": "code",
      "metadata": {
        "id": "1nyXV8utQmyr",
        "outputId": "0758e982-1e8d-4739-9546-436dd87568ac",
        "colab": {
          "base_uri": "https://localhost:8080/"
        }
      },
      "source": [
        "import numpy as np\n",
        "\n",
        "# write your code here\n",
        "import csv\n",
        "with open('/content/drive/My Drive/Recommendation System Project/song_feature.csv') as file:\n",
        "  csvreader=csv.reader(file)\n",
        "  # fields=next(csvreader)\n",
        "  x=[]\n",
        "  for row in csvreader:\n",
        "    x.append(list(map(float,row)))\n",
        "\n",
        "song=np.array(x)\n",
        "print(song.shape)\n",
        "print(song)"
      ],
      "execution_count": null,
      "outputs": [
        {
          "output_type": "stream",
          "text": [
            "(9938, 5)\n",
            "[[-0.26223832 -0.57915429  0.1681672  -0.02099148  0.4289463 ]\n",
            " [ 1.18749093  0.8382921   6.7238765  -0.9119011   1.11066879]\n",
            " [ 1.49687383 -1.06554503  0.3335669  -1.3569191  -0.53465016]\n",
            " ...\n",
            " [-0.4028443  -0.47656519  0.46963926  0.81699222  0.06095219]\n",
            " [ 0.13952206 -0.2022439  -0.10495276  0.42588791 -0.36766231]\n",
            " [-0.41901508  0.61610373 -0.37797701  0.31844266  0.84502606]]\n"
          ],
          "name": "stdout"
        }
      ]
    },
    {
      "cell_type": "code",
      "metadata": {
        "id": "KO9ObkbTW3kQ",
        "outputId": "a7e8a268-c336-4d60-c5b3-d40a763a250a",
        "colab": {
          "base_uri": "https://localhost:8080/"
        }
      },
      "source": [
        "import numpy as np\n",
        "\n",
        "# write your code here\n",
        "import csv\n",
        "with open('/content/drive/My Drive/Recommendation System Project/meta.csv') as file:\n",
        "  csvreader=csv.reader(file)\n",
        "  fields=next(csvreader)\n",
        "  fields=next(csvreader)\n",
        "  x=[]\n",
        "  for row in csvreader:\n",
        "    x.append(row[2:])\n",
        "\n",
        "song_data=np.array(x)\n",
        "print(song_data.shape)\n",
        "print(song_data)"
      ],
      "execution_count": null,
      "outputs": [
        {
          "output_type": "stream",
          "text": [
            "(9938, 5)\n",
            "[['SOAKIMP12A8C130995' 'The Cove' 'Thicker Than Water' 'Jack Johnson' '0']\n",
            " ['SOBBMDR12A8C13253B' 'Entre Dos Aguas' 'Flamenco Para Niños'\n",
            "  'Paco De Lucia' '1976']\n",
            " ['SOBXHDL12A81C204C0' 'Stronger' 'Graduation' 'Kanye West' '2007']\n",
            " ...\n",
            " ['SOGCHYZ12AF72A69EC' 'That Tree (feat. Kid Cudi)'\n",
            "  'That Tree Featuring Kid Cudi' 'Snoop Dogg featuring Kid Cudi' '2010']\n",
            " ['SOOAAQL12B0B80B6D1' 'Borders' 'Dreams' 'The Whitest Boy Alive' '2006']\n",
            " ['SOSSZPW12A8C13843D' 'Figures' 'Dreams' 'The Whitest Boy Alive' '2006']]\n"
          ],
          "name": "stdout"
        }
      ]
    },
    {
      "cell_type": "code",
      "metadata": {
        "id": "qjHspVEZTXRN"
      },
      "source": [
        "# print(ind)\n",
        "# print(arr[ind])\n",
        "# print(max(arr))"
      ],
      "execution_count": null,
      "outputs": []
    },
    {
      "cell_type": "code",
      "metadata": {
        "id": "5pw-UDENWe-n"
      },
      "source": [
        "def recommend_me(n):\n",
        "  arr=[]\n",
        "  for i in range(len(song)):\n",
        "    arr.append(np.linalg.norm(song[n]-song[i]))\n",
        "  arr=np.array(arr)\n",
        "  ind = arr.argsort()[:5]\n",
        "  print(\"Recommended songs for \"+song_data[n][1]+\" by \"+song_data[n][3] + \" are :\")\n",
        "  print()\n",
        "  for i in ind[1:]:\n",
        "    print(song_data[i][1]+\" by \"+song_data[i][3])\n",
        "  print(\"-------------------------------------------------------\")"
      ],
      "execution_count": null,
      "outputs": []
    },
    {
      "cell_type": "code",
      "metadata": {
        "id": "-sJ7ODE2a5P-",
        "outputId": "52faec31-ce25-4c13-d9cc-25a9dafa7a2d",
        "colab": {
          "base_uri": "https://localhost:8080/"
        }
      },
      "source": [
        "recommend_me(12)  #345 #12 #119"
      ],
      "execution_count": null,
      "outputs": [
        {
          "output_type": "stream",
          "text": [
            "Recommended songs for Love Shack by The B-52's are :\n",
            "\n",
            "Come On Over (All I Want Is You) by Christina Aguilera\n",
            "Reign of Terror by Beneath the Massacre\n",
            "I'm Goin' Away by Graham Coxon\n",
            "What They Found by Octopus Project\n",
            "-------------------------------------------------------\n"
          ],
          "name": "stdout"
        }
      ]
    },
    {
      "cell_type": "code",
      "metadata": {
        "id": "k3a4bRHYfWs1",
        "outputId": "1eda46dc-8abd-4b71-e564-84f386a3a40b",
        "colab": {
          "base_uri": "https://localhost:8080/"
        }
      },
      "source": [
        "recommend_me(660)"
      ],
      "execution_count": null,
      "outputs": [
        {
          "output_type": "stream",
          "text": [
            "Recommended songs for Street Justice by MSTRKRFT are :\n",
            "\n",
            "Consequence Of Sounds by Regina Spektor\n",
            "Wet Blanket by Metric\n",
            "sillyworld (Album Version) by Stone Sour\n",
            "Polaris by Zero 7\n",
            "-------------------------------------------------------\n"
          ],
          "name": "stdout"
        }
      ]
    },
    {
      "cell_type": "code",
      "metadata": {
        "id": "2a0gAHAxk1p5",
        "outputId": "5b95fd90-503f-4dd1-b5be-e7e565d6bf37",
        "colab": {
          "base_uri": "https://localhost:8080/"
        }
      },
      "source": [
        "recommend_me(429)"
      ],
      "execution_count": null,
      "outputs": [
        {
          "output_type": "stream",
          "text": [
            "Recommended songs for Angel Echoes by Four Tet are :\n",
            "\n",
            "When You Say You Love Me (Album Version) by Josh Groban\n",
            "Damelo by Juanes\n",
            "Mistadobalina by Del Tha Funkee Homosapien\n",
            "We Will Become Silhouettes (Album) by Postal Service\n",
            "-------------------------------------------------------\n"
          ],
          "name": "stdout"
        }
      ]
    }
  ]
}